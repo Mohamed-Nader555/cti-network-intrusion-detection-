{
  "nbformat": 4,
  "nbformat_minor": 0,
  "metadata": {
    "colab": {
      "provenance": []
    },
    "kernelspec": {
      "name": "python3",
      "display_name": "Python 3"
    },
    "language_info": {
      "name": "python"
    }
  },
  "cells": [
    {
      "cell_type": "code",
      "execution_count": null,
      "metadata": {
        "id": "WBoFDHZrs-vF",
        "colab": {
          "base_uri": "https://localhost:8080/"
        },
        "outputId": "a744e559-1848-4283-ca90-21563ac130a8"
      },
      "outputs": [
        {
          "output_type": "stream",
          "name": "stdout",
          "text": [
            "Drive already mounted at /content/drive; to attempt to forcibly remount, call drive.mount(\"/content/drive\", force_remount=True).\n"
          ]
        }
      ],
      "source": [
        "import pandas as pd\n",
        "import numpy as np\n",
        "\n",
        "from google.colab import drive\n",
        "drive.mount('/content/drive')\n",
        "\n",
        "import pandas as pd\n",
        "import os\n"
      ]
    },
    {
      "cell_type": "code",
      "source": [
        "\n",
        "# List of all your CSV file paths\n",
        "file_paths = [\n",
        "'/content/drive/MyDrive/Final Pro/ddos_loit.csv',\n",
        "'/content/drive/MyDrive/Final Pro/dos_golden_eye.csv',\n",
        "'/content/drive/MyDrive/Final Pro/dos_hulk.csv',\n",
        "'/content/drive/MyDrive/Final Pro/dos_slowhttptest.csv',\n",
        "'/content/drive/MyDrive/Final Pro/dos_slowloris.csv',\n",
        "'/content/drive/MyDrive/Final Pro/monday_benign.csv',\n",
        "'/content/drive/MyDrive/Final Pro/thursday_benign.csv',\n",
        "]\n"
      ],
      "metadata": {
        "id": "wZpd7W9R3W6Y"
      },
      "execution_count": null,
      "outputs": []
    },
    {
      "cell_type": "code",
      "source": [
        "# Read all files and store DataFrames in a list\n",
        "df_list = []\n",
        "for file_path in file_paths:\n",
        "  try:\n",
        "    df = pd.read_csv(file_path)\n",
        "    df_list.append(df)\n",
        "    print(f\"Loaded: {os.path.basename(file_path)} - {df.shape}\")\n",
        "\n",
        "  except Exception as e:\n",
        "    print(f\"Error loading {file_path}: {e}\")\n",
        "\n"
      ],
      "metadata": {
        "id": "LsXiVsRj2_Ol"
      },
      "execution_count": null,
      "outputs": []
    },
    {
      "cell_type": "code",
      "source": [
        "# Concatenate all DataFrames into one\n",
        "combined_df = pd.concat(df_list, ignore_index=True)"
      ],
      "metadata": {
        "id": "mDNJtPdp3QjV"
      },
      "execution_count": null,
      "outputs": []
    },
    {
      "cell_type": "code",
      "source": [
        "# Display basic info\n",
        "print(f\"\\nCombined DataFrame shape: {combined_df.shape}\")\n",
        "combined_df.head()"
      ],
      "metadata": {
        "id": "rYSfWj_X3Sap"
      },
      "execution_count": null,
      "outputs": []
    },
    {
      "cell_type": "code",
      "source": [
        "# Save the combined DataFrame to a new CSV file in Google Drive\n",
        "output_path = '/content/drive/MyDrive/Final Project Combined Dataset/combined_benign_dos_dataset.csv'\n",
        "combined_df.to_csv(output_path, index=False)\n",
        "\n",
        "print(f\"\\nCombined DataFrame saved to: {output_path}\")"
      ],
      "metadata": {
        "id": "8-dfz80n4RjH"
      },
      "execution_count": null,
      "outputs": []
    }
  ]
}